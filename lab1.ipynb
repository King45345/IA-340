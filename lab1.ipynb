{
 "cells": [
  {
   "cell_type": "markdown",
   "id": "fef3a2d7-44f6-42fb-8498-06af6ba8396c",
   "metadata": {
    "editable": true,
    "slideshow": {
     "slide_type": ""
    },
    "tags": []
   },
   "source": [
    "# lab1"
   ]
  },
  {
   "cell_type": "markdown",
   "id": "274fa863-2e54-4a33-85a2-c41115547591",
   "metadata": {},
   "source": [
    "This is my first lab for IA-340"
   ]
  },
  {
   "cell_type": "code",
   "execution_count": null,
   "id": "3c6de19c-9051-494c-8c52-01b92c3c801c",
   "metadata": {},
   "outputs": [],
   "source": [
    "import pandas as pd\n",
    "\n",
    "covid_data = pd.read_csv('s3://ia-340-375976432/data (1).csv')\n",
    "\n",
    "covid_data.head()"
   ]
  },
  {
   "cell_type": "code",
   "execution_count": null,
   "id": "70151a3d-565d-4157-9bdb-a033aae4f3c5",
   "metadata": {
    "editable": true,
    "scrolled": true,
    "slideshow": {
     "slide_type": ""
    },
    "tags": []
   },
   "outputs": [],
   "source": [
    "ev_data = pd.read_csv('s3://ia-340-375976432/Electric_Vehicle_Population_Data.csv')\n",
    "\n",
    "ev_data.head()"
   ]
  },
  {
   "cell_type": "code",
   "execution_count": null,
   "id": "ece00b93-f2a4-417b-9100-c3a2795dfa56",
   "metadata": {
    "editable": true,
    "slideshow": {
     "slide_type": ""
    },
    "tags": []
   },
   "outputs": [],
   "source": []
  },
  {
   "cell_type": "code",
   "execution_count": null,
   "id": "25b52a98-2256-4c14-a51d-0426468b84c3",
   "metadata": {
    "editable": true,
    "slideshow": {
     "slide_type": ""
    },
    "tags": []
   },
   "outputs": [],
   "source": []
  }
 ],
 "metadata": {
  "kernelspec": {
   "display_name": "conda_python3",
   "language": "python",
   "name": "conda_python3"
  },
  "language_info": {
   "codemirror_mode": {
    "name": "ipython",
    "version": 3
   },
   "file_extension": ".py",
   "mimetype": "text/x-python",
   "name": "python",
   "nbconvert_exporter": "python",
   "pygments_lexer": "ipython3",
   "version": "3.10.18"
  }
 },
 "nbformat": 4,
 "nbformat_minor": 5
}
