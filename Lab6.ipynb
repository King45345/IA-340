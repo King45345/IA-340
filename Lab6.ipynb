{
 "cells": [
  {
   "cell_type": "code",
   "execution_count": 1,
   "id": "8b531a4c-6072-4e47-864f-37f4938d0e02",
   "metadata": {},
   "outputs": [],
   "source": [
    "import boto3\n",
    "from botocore.exceptions import ClientError\n",
    "import json\n",
    "\n",
    "def get_secret(secret_name):\n",
    "    region_name = \"us-east-1\"\n",
    "\n",
    "    # Create a Secrets Manager client\n",
    "    session = boto3.session.Session()\n",
    "    client = session.client(\n",
    "        service_name='secretsmanager',\n",
    "        region_name=region_name\n",
    "    )\n",
    "\n",
    "    try:\n",
    "        get_secret_value_response = client.get_secret_value(\n",
    "            SecretId=secret_name\n",
    "        )\n",
    "    except ClientError as e:\n",
    "        raise e\n",
    "\n",
    "    secret = get_secret_value_response['SecretString']\n",
    "    \n",
    "    return json.loads(secret)"
   ]
  },
  {
   "cell_type": "code",
   "execution_count": 2,
   "id": "671e65dc-c999-4f12-8ab7-f7e309caf547",
   "metadata": {},
   "outputs": [],
   "source": [
    "import psycopg2\n",
    "\n",
    "conn = psycopg2.connect(host=get_secret('postgresql')['host'],\n",
    "                      user=get_secret('postgresql')['username'],\n",
    "                      password = get_secret('postgresql')['password'],\n",
    "                      dbname=get_secret('postgresql')['engine'])\n",
    "\n",
    "cur = conn.cursor()"
   ]
  },
  {
   "cell_type": "code",
   "execution_count": 13,
   "id": "f921ed5b-0ac5-46a5-b4b1-6d796387d92d",
   "metadata": {},
   "outputs": [],
   "source": [
    "sql = \"\"\"\n",
    "     select * from population\n",
    "     where fips = '12'\n",
    "     \"\"\""
   ]
  },
  {
   "cell_type": "code",
   "execution_count": 19,
   "id": "505a0914-b726-43b2-80f9-3d92c4d0b0ef",
   "metadata": {},
   "outputs": [
    {
     "name": "stderr",
     "output_type": "stream",
     "text": [
      "/tmp/ipykernel_14378/338280960.py:3: UserWarning: pandas only supports SQLAlchemy connectable (engine/connection) or database string URI or sqlite3 DBAPI2 connection. Other DBAPI2 objects are not tested. Please consider using SQLAlchemy.\n",
      "  va_df = pd.read_sql(sql, con=conn)\n"
     ]
    },
    {
     "data": {
      "text/html": [
       "<div>\n",
       "<style scoped>\n",
       "    .dataframe tbody tr th:only-of-type {\n",
       "        vertical-align: middle;\n",
       "    }\n",
       "\n",
       "    .dataframe tbody tr th {\n",
       "        vertical-align: top;\n",
       "    }\n",
       "\n",
       "    .dataframe thead th {\n",
       "        text-align: right;\n",
       "    }\n",
       "</style>\n",
       "<table border=\"1\" class=\"dataframe\">\n",
       "  <thead>\n",
       "    <tr style=\"text-align: right;\">\n",
       "      <th></th>\n",
       "      <th>fips</th>\n",
       "      <th>pop</th>\n",
       "      <th>year</th>\n",
       "    </tr>\n",
       "  </thead>\n",
       "  <tbody>\n",
       "    <tr>\n",
       "      <th>0</th>\n",
       "      <td>12</td>\n",
       "      <td>17382511</td>\n",
       "      <td>2005</td>\n",
       "    </tr>\n",
       "    <tr>\n",
       "      <th>1</th>\n",
       "      <td>12</td>\n",
       "      <td>18089889</td>\n",
       "      <td>2006</td>\n",
       "    </tr>\n",
       "    <tr>\n",
       "      <th>2</th>\n",
       "      <td>12</td>\n",
       "      <td>18251243</td>\n",
       "      <td>2007</td>\n",
       "    </tr>\n",
       "    <tr>\n",
       "      <th>3</th>\n",
       "      <td>12</td>\n",
       "      <td>18328340</td>\n",
       "      <td>2008</td>\n",
       "    </tr>\n",
       "    <tr>\n",
       "      <th>4</th>\n",
       "      <td>12</td>\n",
       "      <td>18537969</td>\n",
       "      <td>2009</td>\n",
       "    </tr>\n",
       "    <tr>\n",
       "      <th>5</th>\n",
       "      <td>12</td>\n",
       "      <td>18843326</td>\n",
       "      <td>2010</td>\n",
       "    </tr>\n",
       "    <tr>\n",
       "      <th>6</th>\n",
       "      <td>12</td>\n",
       "      <td>19057542</td>\n",
       "      <td>2011</td>\n",
       "    </tr>\n",
       "    <tr>\n",
       "      <th>7</th>\n",
       "      <td>12</td>\n",
       "      <td>19317568</td>\n",
       "      <td>2012</td>\n",
       "    </tr>\n",
       "    <tr>\n",
       "      <th>8</th>\n",
       "      <td>12</td>\n",
       "      <td>19552860</td>\n",
       "      <td>2013</td>\n",
       "    </tr>\n",
       "    <tr>\n",
       "      <th>9</th>\n",
       "      <td>12</td>\n",
       "      <td>19893297</td>\n",
       "      <td>2014</td>\n",
       "    </tr>\n",
       "    <tr>\n",
       "      <th>10</th>\n",
       "      <td>12</td>\n",
       "      <td>20271272</td>\n",
       "      <td>2015</td>\n",
       "    </tr>\n",
       "    <tr>\n",
       "      <th>11</th>\n",
       "      <td>12</td>\n",
       "      <td>20612439</td>\n",
       "      <td>2016</td>\n",
       "    </tr>\n",
       "    <tr>\n",
       "      <th>12</th>\n",
       "      <td>12</td>\n",
       "      <td>20984400</td>\n",
       "      <td>2017</td>\n",
       "    </tr>\n",
       "    <tr>\n",
       "      <th>13</th>\n",
       "      <td>12</td>\n",
       "      <td>21299325</td>\n",
       "      <td>2018</td>\n",
       "    </tr>\n",
       "    <tr>\n",
       "      <th>14</th>\n",
       "      <td>12</td>\n",
       "      <td>21477737</td>\n",
       "      <td>2019</td>\n",
       "    </tr>\n",
       "  </tbody>\n",
       "</table>\n",
       "</div>"
      ],
      "text/plain": [
       "   fips       pop  year\n",
       "0    12  17382511  2005\n",
       "1    12  18089889  2006\n",
       "2    12  18251243  2007\n",
       "3    12  18328340  2008\n",
       "4    12  18537969  2009\n",
       "5    12  18843326  2010\n",
       "6    12  19057542  2011\n",
       "7    12  19317568  2012\n",
       "8    12  19552860  2013\n",
       "9    12  19893297  2014\n",
       "10   12  20271272  2015\n",
       "11   12  20612439  2016\n",
       "12   12  20984400  2017\n",
       "13   12  21299325  2018\n",
       "14   12  21477737  2019"
      ]
     },
     "execution_count": 19,
     "metadata": {},
     "output_type": "execute_result"
    }
   ],
   "source": [
    "import pandas as pd\n",
    "\n",
    "va_df = pd.read_sql(sql, con=conn)\n",
    "va_df"
   ]
  },
  {
   "cell_type": "code",
   "execution_count": 16,
   "id": "305f8371-ebd9-4eab-b64b-e52e80dfbd3d",
   "metadata": {},
   "outputs": [
    {
     "name": "stdout",
     "output_type": "stream",
     "text": [
      "\u001b[31mERROR: pip's dependency resolver does not currently take into account all the packages that are installed. This behaviour is the source of the following dependency conflicts.\n",
      "safety-schemas 0.0.14 requires pydantic<2.10.0,>=2.6.0, but you have pydantic 2.11.9 which is incompatible.\n",
      "sparkmagic 0.21.0 requires pandas<2.0.0,>=0.17.1, but you have pandas 2.2.3 which is incompatible.\u001b[0m\u001b[31m\n",
      "\u001b[0m"
     ]
    }
   ],
   "source": [
    "! pip install jupyter-ai-magics[all] -q"
   ]
  },
  {
   "cell_type": "code",
   "execution_count": 17,
   "id": "e333b39e-746b-4b50-b3cd-78734971ae8d",
   "metadata": {},
   "outputs": [],
   "source": [
    "import os\n",
    "os.environ[\"OPENAI_API_KEY\"] = get_secret('openai')['api_key']"
   ]
  },
  {
   "cell_type": "code",
   "execution_count": 18,
   "id": "117c6681-8670-4457-9f38-773a701f23bd",
   "metadata": {},
   "outputs": [],
   "source": [
    "%load_ext jupyter_ai_magics"
   ]
  },
  {
   "cell_type": "code",
   "execution_count": 24,
   "id": "14544fe6-1fba-4b86-be81-dd34bbe6c157",
   "metadata": {},
   "outputs": [
    {
     "data": {
      "text/markdown": [
       "Below is the markdown version of the Python code that creates a line graph with x = Year and y = Population growth rate for FIPS = 12. Please note that the code can only be run in a Python environment, not in a markdown environment.\n",
       "\n",
       "```python\n",
       "# Import necessary libraries\n",
       "import matplotlib.pyplot as plt\n",
       "import pandas as pd\n",
       "\n",
       "# Assuming 'df' is your DataFrame\n",
       "df = pd.DataFrame({\n",
       "    'fips': 12,\n",
       "    'pop': [17382511, 18089889, 18251243, 18328340, 18537969, 18843326,\n",
       "            19057542, 19317568, 19552860, 19893297, 20271272, 20612439,\n",
       "            20984400, 21299325, 21477737], \n",
       "    'year': [2005, 2006, 2007, 2008, 2009, 2010, 2011, 2012, 2013, 2014,\n",
       "             2015, 2016, 2017, 2018, 2019]\n",
       "})\n",
       "\n",
       "# Select data for FIPS = 12\n",
       "df_fips12 = df[df['fips'] == 12]\n",
       "\n",
       "# Calculate Population growth rate \n",
       "df_fips12['pop_growth_rate'] = df_fips12['pop'].pct_change()\n",
       "\n",
       "# Plotting\n",
       "plt.figure(figsize=(10,6))\n",
       "plt.plot(df_fips12['year'], df_fips12['pop_growth_rate'])\n",
       "plt.xlabel('Year')\n",
       "plt.ylabel('Population Growth Rate')\n",
       "plt.title('Population Growth Rate for FIPS = 12 Over The Years')\n",
       "plt.grid(True)\n",
       "plt.show()\n",
       "```\n",
       "This Python code first imports `matplotlib.pyplot` and `pandas`, which are necessary to draw the graph and manipulate the data. It then creates a DataFrame 'df'. It selects the rows of the DataFrame where 'fips' equals 12. The `pct_change()` function calculates the population growth rate. This new DataFrame is plotted, with 'year' as the x-values and 'pop_growth_rate' as the y-values. Finally, it adds labels and a title to the graph, enables the grid, and displays the graph."
      ],
      "text/plain": [
       "<IPython.core.display.Markdown object>"
      ]
     },
     "execution_count": 24,
     "metadata": {
      "text/markdown": {
       "jupyter_ai": {
        "model_id": "gpt-4",
        "provider_id": "openai-chat"
       }
      }
     },
     "output_type": "execute_result"
    }
   ],
   "source": [
    "%%ai gpt4\n",
    "create python code that creates a line graph with x = Year and y = Population growth rate for FIPS = 12"
   ]
  },
  {
   "cell_type": "code",
   "execution_count": 25,
   "id": "585cf006-94cd-4f15-bcf7-a2dc4622c86d",
   "metadata": {},
   "outputs": [
    {
     "data": {
      "image/png": "[encoded data removed]",
      "text/plain": [
       "<Figure size 1000x600 with 1 Axes>"
      ]
     },
     "metadata": {},
     "output_type": "display_data"
    }
   ],
   "source": [
    "# Import necessary libraries\n",
    "import matplotlib.pyplot as plt\n",
    "import pandas as pd\n",
    "\n",
    "# Assuming 'df' is your DataFrame\n",
    "df = pd.DataFrame({\n",
    "    'fips': 12,\n",
    "    'pop': [17382511, 18089889, 18251243, 18328340, 18537969, 18843326,\n",
    "            19057542, 19317568, 19552860, 19893297, 20271272, 20612439,\n",
    "            20984400, 21299325, 21477737], \n",
    "    'year': [2005, 2006, 2007, 2008, 2009, 2010, 2011, 2012, 2013, 2014,\n",
    "             2015, 2016, 2017, 2018, 2019]\n",
    "})\n",
    "\n",
    "# Select data for FIPS = 12\n",
    "df_fips12 = df[df['fips'] == 12]\n",
    "\n",
    "# Calculate Population growth rate \n",
    "df_fips12['pop_growth_rate'] = df_fips12['pop'].pct_change()\n",
    "\n",
    "# Plotting\n",
    "plt.figure(figsize=(10,6))\n",
    "plt.plot(df_fips12['year'], df_fips12['pop_growth_rate'])\n",
    "plt.xlabel('Year')\n",
    "plt.ylabel('Population Growth Rate')\n",
    "plt.title('Florida')\n",
    "plt.grid(True)\n",
    "plt.show()"
   ]
  },
  {
   "cell_type": "code",
   "execution_count": null,
   "id": "3df11f3c-991d-4ab0-b7ed-1e2f37cb8e6a",
   "metadata": {},
   "outputs": [],
   "source": []
  }
 ],
 "metadata": {
  "kernelspec": {
   "display_name": "conda_python3",
   "language": "python",
   "name": "conda_python3"
  },
  "language_info": {
   "codemirror_mode": {
    "name": "ipython",
    "version": 3
   },
   "file_extension": ".py",
   "mimetype": "text/x-python",
   "name": "python",
   "nbconvert_exporter": "python",
   "pygments_lexer": "ipython3",
   "version": "3.10.18"
  }
 },
 "nbformat": 4,
 "nbformat_minor": 5
}
